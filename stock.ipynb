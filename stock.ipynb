{
 "cells": [
  {
   "cell_type": "code",
   "execution_count": 34,
   "id": "5c4a28a0-7b0e-41f9-97dc-a9d6995a7617",
   "metadata": {},
   "outputs": [],
   "source": [
    "import pandas as pd\n",
    "import matplotlib.pyplot as plt\n",
    "import requests\n",
    "from datetime import datetime\n",
    "from matplotlib import dates as mdates\n",
    "from bs4 import BeautifulSoup as bs"
   ]
  },
  {
   "cell_type": "code",
   "execution_count": 90,
   "id": "79b76b01-7212-4a15-a025-f619efdfa5dc",
   "metadata": {},
   "outputs": [
    {
     "name": "stdin",
     "output_type": "stream",
     "text": [
      "종목 코드를 입력하세요 457190\n"
     ]
    },
    {
     "name": "stderr",
     "output_type": "stream",
     "text": [
      "C:\\Users\\201-21\\AppData\\Local\\Temp\\ipykernel_8240\\166860800.py:11: FutureWarning: Passing literal html to 'read_html' is deprecated and will be removed in a future version. To read from a literal string, wrap it in a 'StringIO' object.\n",
      "  table = pd.read_html(str(html_table))\n",
      "C:\\Users\\201-21\\AppData\\Local\\Temp\\ipykernel_8240\\166860800.py:11: FutureWarning: Passing literal html to 'read_html' is deprecated and will be removed in a future version. To read from a literal string, wrap it in a 'StringIO' object.\n",
      "  table = pd.read_html(str(html_table))\n",
      "C:\\Users\\201-21\\AppData\\Local\\Temp\\ipykernel_8240\\166860800.py:11: FutureWarning: Passing literal html to 'read_html' is deprecated and will be removed in a future version. To read from a literal string, wrap it in a 'StringIO' object.\n",
      "  table = pd.read_html(str(html_table))\n"
     ]
    },
    {
     "name": "stdout",
     "output_type": "stream",
     "text": [
      "            날짜        종가      전일비        시가        고가        저가        거래량\n",
      "0   2024.02.06  253500.0  58300.0  198300.0  253500.0  198300.0  1397991.0\n",
      "1   2024.02.05  195200.0  15900.0  181900.0  204000.0  181600.0   315180.0\n",
      "2   2024.02.02  179300.0   4800.0  175300.0  181500.0  175000.0    60803.0\n",
      "3   2024.02.01  174500.0   1200.0  171800.0  174700.0  170700.0    41600.0\n",
      "4   2024.01.31  173300.0   1900.0  173500.0  176500.0  171300.0    45626.0\n",
      "5   2024.01.30  175200.0   5200.0  180400.0  186400.0  174400.0    93109.0\n",
      "6   2024.01.29  180400.0   3800.0  176700.0  185700.0  173700.0   135615.0\n",
      "7   2024.01.26  176600.0   8700.0  185300.0  191000.0  175000.0   203009.0\n",
      "8   2024.01.25  185300.0  19300.0  195000.0  212000.0  184700.0   946681.0\n",
      "9   2024.01.24  166000.0  15500.0  152000.0  167100.0  151300.0   118577.0\n",
      "10  2024.01.23  150500.0   3200.0  153400.0  156000.0  150000.0    56652.0\n",
      "11  2024.01.22  153700.0  10300.0  161400.0  162400.0  151500.0    80464.0\n",
      "12  2024.01.19  164000.0   3000.0  168100.0  169600.0  162500.0    42541.0\n",
      "13  2024.01.18  167000.0    600.0  167000.0  171600.0  167000.0    37020.0\n",
      "14  2024.01.17  167600.0   6000.0  173800.0  175000.0  167500.0    46443.0\n",
      "15  2024.01.16  173600.0   6400.0  179300.0  179700.0  171400.0    64019.0\n",
      "16  2024.01.15  180000.0  10400.0  169600.0  181200.0  167100.0    83516.0\n",
      "17  2024.01.12  169600.0   3400.0  172500.0  174600.0  167200.0    49617.0\n",
      "18  2024.01.11  173000.0   2200.0  170700.0  175500.0  170700.0    49719.0\n",
      "19  2024.01.10  170800.0   6500.0  175600.0  176800.0  170800.0    52485.0\n",
      "20  2024.01.09  177300.0    200.0  178500.0  182400.0  177000.0    65634.0\n",
      "21  2024.01.08  177500.0    400.0  182900.0  189300.0  177200.0   158234.0\n",
      "22  2024.01.05  177900.0   9300.0  174000.0  197500.0  174000.0   545850.0\n",
      "23  2024.01.04  168600.0   1900.0  165000.0  169500.0  161000.0    46265.0\n",
      "24  2024.01.03  166700.0   1300.0  166300.0  169300.0  164700.0    39597.0\n",
      "25  2024.01.02  168000.0   9900.0  158100.0  171900.0  156800.0    95850.0\n",
      "26  2023.12.28  158100.0    700.0  157500.0  161000.0  155000.0    38619.0\n",
      "27  2023.12.27  157400.0    400.0  158300.0  162000.0  157300.0    39337.0\n",
      "28  2023.12.26  157000.0  10000.0  168700.0  169000.0  157000.0    77066.0\n",
      "29  2023.12.22  167000.0   3900.0  172900.0  172900.0  167000.0    45443.0\n",
      "30  2023.12.21  170900.0   1700.0  170800.0  173400.0  169200.0    56117.0\n",
      "31  2023.12.20  172600.0   2000.0  171600.0  174700.0  171300.0    60468.0\n",
      "32  2023.12.19  170600.0   2800.0  173600.0  174200.0  170000.0    67864.0\n",
      "33  2023.12.18  173400.0    400.0  174900.0  175800.0  169800.0    79535.0\n",
      "34  2023.12.15  173000.0   2000.0  177100.0  183000.0  172600.0   111349.0\n",
      "35  2023.12.14  175000.0    500.0  177500.0  179000.0  172800.0    56741.0\n",
      "36  2023.12.13  174500.0   7900.0  179900.0  182300.0  174400.0    75787.0\n",
      "37  2023.12.12  182400.0   4300.0  179400.0  182600.0  176400.0    90512.0\n",
      "38  2023.12.11  178100.0   5200.0  173500.0  184800.0  172900.0   205326.0\n",
      "39  2023.12.08  172900.0    200.0  174900.0  177100.0  169100.0   104895.0\n",
      "<class 'pandas.core.frame.DataFrame'>\n"
     ]
    },
    {
     "name": "stderr",
     "output_type": "stream",
     "text": [
      "C:\\Users\\201-21\\AppData\\Local\\Temp\\ipykernel_8240\\166860800.py:11: FutureWarning: Passing literal html to 'read_html' is deprecated and will be removed in a future version. To read from a literal string, wrap it in a 'StringIO' object.\n",
      "  table = pd.read_html(str(html_table))\n"
     ]
    }
   ],
   "source": [
    "dfs = []\n",
    "name = input('종목 코드를 입력하세요')\n",
    "sise_url = f'https://finance.naver.com/item/sise_day.nhn?code={name}'\n",
    "for page in range(1, 5):\n",
    "    page_url = '{}&page={}'.format(sise_url, page)\n",
    "    headers = {'user-agent': 'Mozilla/5.0 (Macintosh; Intel Mac OS X 10_15_7) AppleWebKit/537.36 (KHTML, like Gecko) Chrome/88.0.4324.96 Safari/537.36'}\n",
    "    response = requests.get(page_url, headers=headers)\n",
    "    html = bs(response.text, 'html.parser')\n",
    "    html_table = html.select(\"table\")\n",
    "    \n",
    "    table = pd.read_html(str(html_table))\n",
    "    # 만약 테이블이 비어 있다면 페이지 끝에 도달한 것으로 간주하고 루프를 종료합니다.\n",
    "    if not table:\n",
    "        break\n",
    "    \n",
    "    # 현재 페이지의 데이터를 리스트에 추가합니다.\n",
    "    dfs.append(table[0].dropna())\n",
    "\n",
    "# 리스트에 데이터프레임이 있다면 모든 데이터프레임을 합쳐서 하나의 데이터프레임으로 만듭니다.\n",
    "if dfs:\n",
    "    df = pd.concat(dfs, ignore_index=True)\n",
    "    # print(df)\n",
    "else:\n",
    "    pass\n",
    "    # print(\"No data found.\")\n",
    "# print(df)\n",
    "# print(type(df))"
   ]
  },
  {
   "cell_type": "code",
   "execution_count": 92,
   "id": "f9427825-3187-4cfe-bc5d-50c9adb4055b",
   "metadata": {},
   "outputs": [
    {
     "data": {
      "text/plain": [
       "pandas._libs.tslibs.timestamps.Timestamp"
      ]
     },
     "execution_count": 92,
     "metadata": {},
     "output_type": "execute_result"
    }
   ],
   "source": [
    "type(df['날짜'][0])\n",
    "df['날짜'] = pd.to_datetime(df['날짜'])\n",
    "type(df['날짜'][0])\n",
    " df_filered =   df[ df['날짜'].isin(pd.date_range('2024-01-01', '2024-01-31')) ]\n",
    "# print (df_filered, '\\n')"
   ]
  },
  {
   "cell_type": "code",
   "execution_count": 94,
   "id": "4d154ab9-77a6-40d7-93c5-02db87aa77a2",
   "metadata": {},
   "outputs": [],
   "source": [
    "import os\n",
    "\n",
    "f_name = f'{name}.csv'\n",
    "if os.path.exists(f_name): # 파일이 있다면? 헤더 제외\n",
    "    df_filered.to_csv(f_name, encoding='utf-8-sig', index=False, mode='a', header=False)\n",
    "else: # 파일이 없다면? 헤더 포함\n",
    "    df_filered.to_csv(f_name, encoding='utf-8-sig', index=False)"
   ]
  }
 ],
 "metadata": {
  "kernelspec": {
   "display_name": "Python 3 (ipykernel)",
   "language": "python",
   "name": "python3"
  },
  "language_info": {
   "codemirror_mode": {
    "name": "ipython",
    "version": 3
   },
   "file_extension": ".py",
   "mimetype": "text/x-python",
   "name": "python",
   "nbconvert_exporter": "python",
   "pygments_lexer": "ipython3",
   "version": "3.10.13"
  }
 },
 "nbformat": 4,
 "nbformat_minor": 5
}
